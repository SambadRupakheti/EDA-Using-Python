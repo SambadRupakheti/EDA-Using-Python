{
 "cells": [
  {
   "cell_type": "markdown",
   "id": "7df6d45c-2329-4d56-8753-b4d2598ee437",
   "metadata": {},
   "source": [
    "### EDA & Visualization Using Python"
   ]
  },
  {
   "cell_type": "code",
   "execution_count": 96,
   "id": "0fc5d2f5-2500-45aa-8047-8ef459c2b5fe",
   "metadata": {},
   "outputs": [
    {
     "name": "stdout",
     "output_type": "stream",
     "text": [
      "                  Name WhoAreThey  StudentNum         Job Current_Country  \\\n",
      "0     Sambad Rupakheti         Me   200621504     Student          Canada   \n",
      "1     Dhruba Rupakheti     Father           0     Auditor           Nepal   \n",
      "2    Sirjana Rupakheti     Mother           0     Teacher           Nepal   \n",
      "3  Sambridhi Rupakheti     Sister           0  Accountant          Canada   \n",
      "4   Prakriti Rupakheti     Sister           0      Doctor           Nepal   \n",
      "5    Sumiran Rupakheti     Cousin           0    Engineer           Nepal   \n",
      "6      Kamal Rupakheti     Cousin           0          IT          Canada   \n",
      "7     Prayus Rupakheti     Cousin           0   Scientist          Canada   \n",
      "8     Sudeep Rupakheti     Cousin           0     Dentist           Nepal   \n",
      "9    Sandeep Rupakheti     Cousin           0  Accountant          Canada   \n",
      "\n",
      "  Home_Country Current_City  Home_City  Salary  Car_Expenses  Food_Expenses  \\\n",
      "0        Nepal      Toronto  Kathmandu   80000         15000           4000   \n",
      "1        Nepal    Kathmandu  Kathmandu  100000         20000           4000   \n",
      "2        Nepal    Kathmandu  Kathmandu   75000         15000           6000   \n",
      "3       Canada      Toronto    Toronto   70000         18000           3000   \n",
      "4        Nepal    Kathmandu  Kathmandu   95000         15000           7000   \n",
      "5        Nepal    Kathmandu  Kathmandu   65000         20000           2000   \n",
      "6        Nepal      Toronto  Kathmandu   55000         20000           4000   \n",
      "7        Nepal      Toronto  Kathmandu   90000         18000           3500   \n",
      "8        Nepal    Kathmandu  Kathmandu   87000         12000           2500   \n",
      "9       Canada       Barrie     Barrie   75000         15000           4000   \n",
      "\n",
      "   Rent_Expenses  \n",
      "0          25000  \n",
      "1          25000  \n",
      "2          30000  \n",
      "3          35000  \n",
      "4          15000  \n",
      "5          17000  \n",
      "6          16000  \n",
      "7          28000  \n",
      "8          20000  \n",
      "9          20000  \n"
     ]
    }
   ],
   "source": [
    "import pandas as pd\n",
    "#read the data from csv file\n",
    "data = pd.read_csv('family.csv')\n",
    "print(data)"
   ]
  },
  {
   "cell_type": "code",
   "execution_count": 7,
   "id": "bd91bfbf-7d64-40cd-b8fe-df1c3461759a",
   "metadata": {},
   "outputs": [
    {
     "name": "stdout",
     "output_type": "stream",
     "text": [
      "Name               0\n",
      "WhoAreThey         0\n",
      "StudentNum         0\n",
      "Job                0\n",
      "Current_Country    0\n",
      "Home_Country       0\n",
      "Current_City       0\n",
      "Home_City          0\n",
      "Salary             0\n",
      "Car_Expenses       0\n",
      "Food_Expenses      0\n",
      "Rent_Expenses      0\n",
      "dtype: int64\n"
     ]
    }
   ],
   "source": [
    "#count the number of missing values in each column\n",
    "print(data.isnull().sum())\n",
    "#drop rows with missing data\n",
    "data = data.dropna()"
   ]
  },
  {
   "cell_type": "code",
   "execution_count": 9,
   "id": "7d8451fe-a13d-4b27-90dc-2ce3d0851358",
   "metadata": {},
   "outputs": [
    {
     "name": "stdout",
     "output_type": "stream",
     "text": [
      "                  Name WhoAreThey  StudentNum         Job Current_Country  \\\n",
      "0     Sambad Rupakheti         Me   200621504     Student          Canada   \n",
      "1     Dhruba Rupakheti     Father           0     Auditor           Nepal   \n",
      "2    Sirjana Rupakheti     Mother           0     Teacher           Nepal   \n",
      "3  Sambridhi Rupakheti     Sister           0  Accountant          Canada   \n",
      "4   Prakriti Rupakheti     Sister           0      Doctor           Nepal   \n",
      "5    Sumiran Rupakheti     Cousin           0    Engineer           Nepal   \n",
      "6      Kamal Rupakheti     Cousin           0          IT          Canada   \n",
      "7     Prayus Rupakheti     Cousin           0   Scientist          Canada   \n",
      "8     Sudeep Rupakheti     Cousin           0     Dentist           Nepal   \n",
      "9    Sandeep Rupakheti     Cousin           0  Accountant          Canada   \n",
      "\n",
      "  Home_Country Current_City  Home_City  Salary  Car_Expenses  Food_Expenses  \\\n",
      "0        Nepal      Toronto  Kathmandu   80000         15000           4000   \n",
      "1        Nepal    Kathmandu  Kathmandu  100000         20000           4000   \n",
      "2        Nepal    Kathmandu  Kathmandu   75000         15000           6000   \n",
      "3       Canada      Toronto    Toronto   70000         18000           3000   \n",
      "4        Nepal    Kathmandu  Kathmandu   95000         15000           7000   \n",
      "5        Nepal    Kathmandu  Kathmandu   65000         20000           2000   \n",
      "6        Nepal      Toronto  Kathmandu   55000         20000           4000   \n",
      "7        Nepal      Toronto  Kathmandu   90000         18000           3500   \n",
      "8        Nepal    Kathmandu  Kathmandu   87000         12000           2500   \n",
      "9       Canada       Barrie     Barrie   75000         15000           4000   \n",
      "\n",
      "   Rent_Expenses  \n",
      "0          25000  \n",
      "1          25000  \n",
      "2          30000  \n",
      "3          35000  \n",
      "4          15000  \n",
      "5          17000  \n",
      "6          16000  \n",
      "7          28000  \n",
      "8          20000  \n",
      "9          20000  \n"
     ]
    }
   ],
   "source": [
    "#remove duplicate data\n",
    "data = data.drop_duplicates()\n",
    "print(data)"
   ]
  },
  {
   "cell_type": "code",
   "execution_count": 55,
   "id": "e2103b93-acfe-4d00-87f2-34ad614a9baf",
   "metadata": {},
   "outputs": [
    {
     "name": "stdout",
     "output_type": "stream",
     "text": [
      "                  Name WhoAreThey  StudentNum         Job Current_Country  \\\n",
      "0     Sambad Rupakheti         Me   200621504     Student          Canada   \n",
      "1     Dhruba Rupakheti     Father           0     Auditor           Nepal   \n",
      "2    Sirjana Rupakheti     Mother           0     Teacher           Nepal   \n",
      "3  Sambridhi Rupakheti     Sister           0  Accountant          Canada   \n",
      "4   Prakriti Rupakheti     Sister           0      Doctor           Nepal   \n",
      "5    Sumiran Rupakheti     Cousin           0    Engineer           Nepal   \n",
      "6      Kamal Rupakheti     Cousin           0          IT          Canada   \n",
      "7     Prayus Rupakheti     Cousin           0   Scientist          Canada   \n",
      "8     Sudeep Rupakheti     Cousin           0     Dentist           Nepal   \n",
      "9    Sandeep Rupakheti     Cousin           0  Accountant          Canada   \n",
      "\n",
      "  Home_Country Current_City  Home_City  Salary  Car_Expenses  Food_Expenses  \\\n",
      "0        Nepal      Toronto  Kathmandu   80000         15000           4000   \n",
      "1        Nepal    Kathmandu  Kathmandu  100000         20000           4000   \n",
      "2        Nepal    Kathmandu  Kathmandu   75000         15000           6000   \n",
      "3       Canada      Toronto    Toronto   70000         18000           3000   \n",
      "4        Nepal    Kathmandu  Kathmandu   95000         15000           7000   \n",
      "5        Nepal    Kathmandu  Kathmandu   65000         20000           2000   \n",
      "6        Nepal      Toronto  Kathmandu   55000         20000           4000   \n",
      "7        Nepal      Toronto  Kathmandu   90000         18000           3500   \n",
      "8        Nepal    Kathmandu  Kathmandu   87000         12000           2500   \n",
      "9       Canada       Barrie     Barrie   75000         15000           4000   \n",
      "\n",
      "   Rent_Expenses  \n",
      "0          25000  \n",
      "1          25000  \n",
      "2          30000  \n",
      "3          35000  \n",
      "4          15000  \n",
      "5          17000  \n",
      "6          16000  \n",
      "7          28000  \n",
      "8          20000  \n",
      "9          20000  \n"
     ]
    }
   ],
   "source": [
    "# Ensure columns are treated as strings before processing\n",
    "numeric_columns = ['Salary', 'Car_Expenses', 'Food_Expenses', 'Rent_Expenses']\n",
    "\n",
    "for col in numeric_columns:\n",
    "    # Convert to string, replace commas, spaces, and \".0\", then convert back to int\n",
    "    data[col] = data[col].astype(str).str.replace(',', '').str.replace(' ', '').str.replace('.0', '').astype(int)\n",
    "\n",
    "# Save the cleaned data back to the same CSV file\n",
    "data.to_csv('family.csv', index=False)\n",
    "print(data)"
   ]
  },
  {
   "cell_type": "markdown",
   "id": "5907f79d-fe79-4c8a-8430-9a614124752e",
   "metadata": {},
   "source": [
    "### Data Exploration"
   ]
  },
  {
   "cell_type": "code",
   "execution_count": 57,
   "id": "4c3a7311-1e40-44ae-94b0-26e02546fcdb",
   "metadata": {},
   "outputs": [
    {
     "name": "stdout",
     "output_type": "stream",
     "text": [
      "Data Structure\n",
      "<class 'pandas.core.frame.DataFrame'>\n",
      "RangeIndex: 10 entries, 0 to 9\n",
      "Data columns (total 12 columns):\n",
      " #   Column           Non-Null Count  Dtype \n",
      "---  ------           --------------  ----- \n",
      " 0   Name             10 non-null     object\n",
      " 1   WhoAreThey       10 non-null     object\n",
      " 2   StudentNum       10 non-null     int64 \n",
      " 3   Job              10 non-null     object\n",
      " 4   Current_Country  10 non-null     object\n",
      " 5   Home_Country     10 non-null     object\n",
      " 6   Current_City     10 non-null     object\n",
      " 7   Home_City        10 non-null     object\n",
      " 8   Salary           10 non-null     int32 \n",
      " 9   Car_Expenses     10 non-null     int32 \n",
      " 10  Food_Expenses    10 non-null     int32 \n",
      " 11  Rent_Expenses    10 non-null     int32 \n",
      "dtypes: int32(4), int64(1), object(7)\n",
      "memory usage: 932.0+ bytes\n",
      "None\n",
      "---------------\n",
      "\n",
      "\n"
     ]
    }
   ],
   "source": [
    "import pandas as pd\n",
    "# Examining the structure of the data\n",
    "print(\"Data Structure\")\n",
    "print(data.info())\n",
    "print(\"---------------\")\n",
    "print(\"\\n\")"
   ]
  },
  {
   "cell_type": "code",
   "execution_count": 53,
   "id": "ea018926-8f68-4a33-861d-dfa29536e972",
   "metadata": {},
   "outputs": [
    {
     "name": "stdout",
     "output_type": "stream",
     "text": [
      "Columns:\n",
      "Index(['Name', 'WhoAreThey', 'StudentNum', 'Job', 'Current_Country',\n",
      "       'Home_Country', 'Current_City', 'Home_City', 'Salary', 'Car_Expenses',\n",
      "       'Food_Expenses', 'Rent_Expenses'],\n",
      "      dtype='object')\n",
      "                  Name WhoAreThey  StudentNum         Job Current_Country  \\\n",
      "0     Sambad Rupakheti         Me   200621504     Student          Canada   \n",
      "1     Dhruba Rupakheti     Father           0     Auditor           Nepal   \n",
      "2    Sirjana Rupakheti     Mother           0     Teacher           Nepal   \n",
      "3  Sambridhi Rupakheti     Sister           0  Accountant          Canada   \n",
      "4   Prakriti Rupakheti     Sister           0      Doctor           Nepal   \n",
      "\n",
      "  Home_Country Current_City  Home_City  Salary  Car_Expenses  Food_Expenses  \\\n",
      "0        Nepal      Toronto  Kathmandu   80000         15000           4000   \n",
      "1        Nepal    Kathmandu  Kathmandu  100000         20000           4000   \n",
      "2        Nepal    Kathmandu  Kathmandu   75000         15000           6000   \n",
      "3       Canada      Toronto    Toronto   70000         18000           3000   \n",
      "4        Nepal    Kathmandu  Kathmandu   95000         15000           7000   \n",
      "\n",
      "   Rent_Expenses  \n",
      "0          25000  \n",
      "1          25000  \n",
      "2          30000  \n",
      "3          35000  \n",
      "4          15000  \n",
      "------------------------------\n",
      "Data Types:\n",
      "Name               object\n",
      "WhoAreThey         object\n",
      "StudentNum          int64\n",
      "Job                object\n",
      "Current_Country    object\n",
      "Home_Country       object\n",
      "Current_City       object\n",
      "Home_City          object\n",
      "Salary              int32\n",
      "Car_Expenses        int32\n",
      "Food_Expenses       int32\n",
      "Rent_Expenses       int32\n",
      "dtype: object\n"
     ]
    }
   ],
   "source": [
    "#examining the columns\n",
    "print(\"Columns:\")\n",
    "print(data.columns)\n",
    "# display first few rows of the dataframe\n",
    "print(data.head())\n",
    "print(\"------------------------------\")\n",
    "# Look at data types\n",
    "print(\"Data Types:\")\n",
    "print(data.dtypes)"
   ]
  },
  {
   "cell_type": "markdown",
   "id": "564e6738-cbf0-43a7-8f6a-aa97cfbacb3b",
   "metadata": {},
   "source": [
    "## Filter and sort data with pandas"
   ]
  },
  {
   "cell_type": "code",
   "execution_count": 59,
   "id": "b9e75bde-b5cb-4707-ae30-1ff89aba3ed6",
   "metadata": {},
   "outputs": [
    {
     "name": "stdout",
     "output_type": "stream",
     "text": [
      "                 Name WhoAreThey  StudentNum      Job Current_Country  \\\n",
      "2   Sirjana Rupakheti     Mother           0  Teacher           Nepal   \n",
      "4  Prakriti Rupakheti     Sister           0   Doctor           Nepal   \n",
      "\n",
      "  Home_Country Current_City  Home_City  Salary  Car_Expenses  Food_Expenses  \\\n",
      "2        Nepal    Kathmandu  Kathmandu   75000         15000           6000   \n",
      "4        Nepal    Kathmandu  Kathmandu   95000         15000           7000   \n",
      "\n",
      "   Rent_Expenses  \n",
      "2          30000  \n",
      "4          15000  \n"
     ]
    }
   ],
   "source": [
    "# save the filtered data into filtered dataframe\n",
    "filtered_df= data[data['Food_Expenses']>5000]\n",
    "print(filtered_df)"
   ]
  },
  {
   "cell_type": "code",
   "execution_count": 89,
   "id": "5e027c9e-ec26-4289-bc7f-e97c43bdbec4",
   "metadata": {},
   "outputs": [
    {
     "name": "stdout",
     "output_type": "stream",
     "text": [
      "                  Name WhoAreThey  StudentNum         Job Current_Country  \\\n",
      "1     Dhruba Rupakheti     Father           0     Auditor           Nepal   \n",
      "4   Prakriti Rupakheti     Sister           0      Doctor           Nepal   \n",
      "7     Prayus Rupakheti     Cousin           0   Scientist          Canada   \n",
      "8     Sudeep Rupakheti     Cousin           0     Dentist           Nepal   \n",
      "0     Sambad Rupakheti         Me   200621504     Student          Canada   \n",
      "2    Sirjana Rupakheti     Mother           0     Teacher           Nepal   \n",
      "9    Sandeep Rupakheti     Cousin           0  Accountant          Canada   \n",
      "3  Sambridhi Rupakheti     Sister           0  Accountant          Canada   \n",
      "5    Sumiran Rupakheti     Cousin           0    Engineer           Nepal   \n",
      "6      Kamal Rupakheti     Cousin           0          IT          Canada   \n",
      "\n",
      "  Home_Country Current_City  Home_City  Salary  Car_Expenses  Food_Expenses  \\\n",
      "1        Nepal    Kathmandu  Kathmandu  100000         20000           4000   \n",
      "4        Nepal    Kathmandu  Kathmandu   95000         15000           7000   \n",
      "7        Nepal      Toronto  Kathmandu   90000         18000           3500   \n",
      "8        Nepal    Kathmandu  Kathmandu   87000         12000           2500   \n",
      "0        Nepal      Toronto  Kathmandu   80000         15000           4000   \n",
      "2        Nepal    Kathmandu  Kathmandu   75000         15000           6000   \n",
      "9       Canada       Barrie     Barrie   75000         15000           4000   \n",
      "3       Canada      Toronto    Toronto   70000         18000           3000   \n",
      "5        Nepal    Kathmandu  Kathmandu   65000         20000           2000   \n",
      "6        Nepal      Toronto  Kathmandu   55000         20000           4000   \n",
      "\n",
      "   Rent_Expenses  \n",
      "1          25000  \n",
      "4          15000  \n",
      "7          28000  \n",
      "8          20000  \n",
      "0          25000  \n",
      "2          30000  \n",
      "9          20000  \n",
      "3          35000  \n",
      "5          17000  \n",
      "6          16000  \n"
     ]
    }
   ],
   "source": [
    "#sort the data by column in desc order\n",
    "sorted_df=data.sort_values('Salary',ascending = False)\n",
    "print(sorted_df)"
   ]
  },
  {
   "cell_type": "markdown",
   "id": "e047e343-0340-4dd3-beed-4978f24dda9c",
   "metadata": {},
   "source": [
    "### Descriptive Statistics"
   ]
  },
  {
   "cell_type": "code",
   "execution_count": 92,
   "id": "98a66c2f-fa9e-452e-867f-a50d3c43dba4",
   "metadata": {},
   "outputs": [
    {
     "name": "stdout",
     "output_type": "stream",
     "text": [
      "Data Distributions:\n",
      "         StudentNum         Salary  Car_Expenses  Food_Expenses  Rent_Expenses\n",
      "count  1.000000e+01      10.000000     10.000000      10.000000      10.000000\n",
      "mean   2.006215e+07   79200.000000  16800.000000    4000.000000   23100.000000\n",
      "std    6.344209e+07   14014.278433   2780.887149    1509.230856    6607.235092\n",
      "min    0.000000e+00   55000.000000  12000.000000    2000.000000   15000.000000\n",
      "25%    0.000000e+00   71250.000000  15000.000000    3125.000000   17750.000000\n",
      "50%    0.000000e+00   77500.000000  16500.000000    4000.000000   22500.000000\n",
      "75%    0.000000e+00   89250.000000  19500.000000    4000.000000   27250.000000\n",
      "max    2.006215e+08  100000.000000  20000.000000    7000.000000   35000.000000\n"
     ]
    }
   ],
   "source": [
    "#examining the distributions\n",
    "print(\"Data Distributions:\")\n",
    "print(data.describe())"
   ]
  },
  {
   "cell_type": "code",
   "execution_count": 94,
   "id": "b53e486a-9530-476c-ac45-5a0d4e6d742e",
   "metadata": {},
   "outputs": [
    {
     "name": "stdout",
     "output_type": "stream",
     "text": [
      "                    Name WhoAreThey         Job Current_Country Home_Country  \\\n",
      "count                 10         10          10              10           10   \n",
      "unique                10          5           9               2            2   \n",
      "top     Sambad Rupakheti     Cousin  Accountant          Canada        Nepal   \n",
      "freq                   1          5           2               5            8   \n",
      "\n",
      "       Current_City  Home_City  \n",
      "count            10         10  \n",
      "unique            3          3  \n",
      "top       Kathmandu  Kathmandu  \n",
      "freq              5          8  \n"
     ]
    }
   ],
   "source": [
    "# extract more specific statistics on data objects by including object type in describe() method\n",
    "print(data.describe(include=['object']))"
   ]
  },
  {
   "cell_type": "code",
   "execution_count": 98,
   "id": "521a83ae-704d-49b8-ac43-8b958cbdb77d",
   "metadata": {},
   "outputs": [
    {
     "name": "stdout",
     "output_type": "stream",
     "text": [
      "StudentNum       20062150.4\n",
      "Salary              79200.0\n",
      "Car_Expenses        16800.0\n",
      "Food_Expenses        4000.0\n",
      "Rent_Expenses       23100.0\n",
      "Name: mean, dtype: float64\n"
     ]
    }
   ],
   "source": [
    "# pulling specific statistics\n",
    "mean = data.describe().loc['mean']\n",
    "print(mean)"
   ]
  },
  {
   "cell_type": "markdown",
   "id": "9c850e47-6eea-41a7-a1de-037584364d51",
   "metadata": {},
   "source": [
    "# Visualization - MatPlotLib"
   ]
  },
  {
   "cell_type": "code",
   "execution_count": 61,
   "id": "fe5996c2-2ac0-4ed0-bf90-e3eabe37ac71",
   "metadata": {},
   "outputs": [
    {
     "data": {
      "image/png": "[encoded data removed]",
      "text/plain": [
       "<Figure size 800x600 with 1 Axes>"
      ]
     },
     "metadata": {},
     "output_type": "display_data"
    }
   ],
   "source": [
    "import matplotlib.pyplot as plt\n",
    "import pandas as pd\n",
    "plt.figure(figsize=(8, 6))\n",
    "plt.hist(data['Salary'], bins=5, edgecolor='black', alpha=0.7)\n",
    "plt.title('Salary Distribution')\n",
    "plt.xlabel('Salary')\n",
    "plt.ylabel('Frequency')\n",
    "plt.grid(axis='y', linestyle='--', alpha=0.7)\n",
    "plt.show()\n"
   ]
  },
  {
   "cell_type": "markdown",
   "id": "12eb0183-2e10-4869-8583-2d096aaa91b9",
   "metadata": {},
   "source": [
    "### Insight: The histogram shows the distribution of salaries across all individuals in the dataset. By dividing the data into 5 bins, it provides a quick view of how many people fall within different salary ranges.\n",
    "### Key Finding: The data might highlight whether salaries are evenly distributed or clustered around certain ranges, such as a high concentration of salaries within a specific bracket."
   ]
  },
  {
   "cell_type": "code",
   "execution_count": 109,
   "id": "e5f546db-4241-48af-bcb1-6005269af40b",
   "metadata": {},
   "outputs": [
    {
     "data": {
      "text/plain": [
       "Text(0, 0.5, 'Average Rent Expenses')"
      ]
     },
     "execution_count": 109,
     "metadata": {},
     "output_type": "execute_result"
    },
    {
     "data": {
      "image/png": "[encoded data removed]",
      "text/plain": [
       "<Figure size 800x600 with 1 Axes>"
      ]
     },
     "metadata": {},
     "output_type": "display_data"
    }
   ],
   "source": [
    "rent_by_country = data.groupby('Current_Country')['Rent_Expenses'].mean().sort_values()\n",
    "plt.figure(figsize=(8, 6))\n",
    "rent_by_country.plot(kind='bar', color='skyblue', edgecolor='black')\n",
    "plt.title('Average Rent Expenses by Current Country')\n",
    "plt.xlabel('Current Country')\n",
    "plt.ylabel('Average Rent Expenses')"
   ]
  },
  {
   "cell_type": "markdown",
   "id": "d19d9a86-89c6-4862-953d-7c89c54d4b91",
   "metadata": {},
   "source": [
    "### Insight: The bar chart visualizes the average rent expenses for individuals grouped by their current country. It compares how rent costs vary between countries.\n",
    "### Key Finding: This could reveal whether rent expenses are higher in  Canada compared to another Nepal, giving an idea of regional cost-of-living differences."
   ]
  },
  {
   "cell_type": "markdown",
   "id": "85da4c90-d098-4c69-a864-35be8164556d",
   "metadata": {},
   "source": [
    "# Visualization with Seaborn"
   ]
  },
  {
   "cell_type": "code",
   "execution_count": 65,
   "id": "909b27e8-c7d7-49c7-8f1a-5dfb775e0f3a",
   "metadata": {},
   "outputs": [
    {
     "data": {
      "image/png": "[encoded data removed]",
      "text/plain": [
       "<Figure size 1000x600 with 1 Axes>"
      ]
     },
     "metadata": {},
     "output_type": "display_data"
    }
   ],
   "source": [
    "import seaborn as sns\n",
    "import matplotlib.pyplot as plt\n",
    "\n",
    "plt.figure(figsize=(10, 6))\n",
    "sns.scatterplot(data=data, x='Salary', y='Rent_Expenses', hue='Current_Country', s=100)\n",
    "plt.title('Salary vs Rent Expenses by Current Country')\n",
    "plt.xlabel('Salary')\n",
    "plt.ylabel('Rent Expenses')\n",
    "plt.legend(title='Current Country', bbox_to_anchor=(1.05, 1), loc='upper left')\n",
    "plt.grid(alpha=0.5)\n",
    "plt.show()"
   ]
  },
  {
   "cell_type": "markdown",
   "id": "6cd0f078-e52b-4d10-8610-676b7d39e0f0",
   "metadata": {},
   "source": [
    "### The relationship between salary and rent expenses may reveal if higher salaries correlate with higher rents, differing by country."
   ]
  },
  {
   "cell_type": "code",
   "execution_count": 67,
   "id": "7a3ddf6c-fe00-4479-b3db-cf7780ed66e1",
   "metadata": {},
   "outputs": [
    {
     "data": {
      "image/png": "[encoded data removed]",
      "text/plain": [
       "<Figure size 1200x600 with 1 Axes>"
      ]
     },
     "metadata": {},
     "output_type": "display_data"
    }
   ],
   "source": [
    "plt.figure(figsize=(12, 6))\n",
    "sns.boxplot(data=data, x='WhoAreThey', y='Food_Expenses', palette='coolwarm')\n",
    "plt.title('Food Expenses by Family Role')\n",
    "plt.xlabel('Family Role (WhoAreThey)')\n",
    "plt.ylabel('Food Expenses')\n",
    "plt.xticks(rotation=45)\n",
    "plt.grid(alpha=0.5)\n",
    "plt.show()"
   ]
  },
  {
   "cell_type": "markdown",
   "id": "65d82353-848e-482c-8dfc-8778acae5fc4",
   "metadata": {},
   "source": [
    "### The distribution of food expenses can show which roles tend to have higher or lower average food expenses.\n",
    "### Fixed Spending: Roles like \"Me,\" \"Father,\" and \"Mother\" show little to no variation in food expenses, indicating consistent spending habits.\n",
    "### High Variation: The \"Sister\" role has the most variability in food expenses, suggesting diverse financial or lifestyle conditions.\n",
    "### Moderate Variation: The \"Cousin\" role shows moderate variability but with a lower median than \"Sister.\""
   ]
  },
  {
   "cell_type": "markdown",
   "id": "8d5f4205-2076-466f-8f5b-78da76fc1d51",
   "metadata": {},
   "source": [
    "# Visualization with Plotly"
   ]
  },
  {
   "cell_type": "code",
   "execution_count": 80,
   "id": "bb5062a8-457d-4bde-a842-d3b5bbedac57",
   "metadata": {},
   "outputs": [
    {
     "data": {
      "application/vnd.plotly.v1+json": {
       "config": {
        "plotlyServerURL": "https://plot.ly"
       },
       "data": [
        {
         "branchvalues": "total",
         "customdata": [
          [
           "(?)",
           22272.727272727272,
           "(?)",
           22272.727272727272
          ],
          [
           "(?)",
           18717.105263157893,
           "(?)",
           18717.105263157893
          ],
          [
           4000,
           25000,
           "Auditor",
           25000
          ],
          [
           4000,
           25000,
           "Student",
           25000
          ],
          [
           6000,
           30000,
           "Teacher",
           30000
          ],
          [
           3000,
           35000,
           "Accountant",
           35000
          ],
          [
           7000,
           15000,
           "Doctor",
           15000
          ],
          [
           "(?)",
           25270.27027027027,
           "(?)",
           25270.27027027027
          ],
          [
           "(?)",
           21374.407582938387,
           "(?)",
           21374.407582938387
          ]
         ],
         "domain": {
          "x": [
           0,
           1
          ],
          "y": [
           0,
           1
          ]
         },
         "hovertemplate": "labels=%{label}<br>Salary=%{value}<br>parent=%{parent}<br>id=%{id}<br>Food_Expenses=%{customdata[0]}<br>Rent_Expenses=%{color}<br>Job=%{customdata[2]}<extra></extra>",
         "ids": [
          "Canada/Cousin",
          "Nepal/Cousin",
          "Nepal/Father",
          "Canada/Me",
          "Nepal/Mother",
          "Canada/Sister",
          "Nepal/Sister",
          "Canada",
          "Nepal"
         ],
         "labels": [
          "Cousin",
          "Cousin",
          "Father",
          "Me",
          "Mother",
          "Sister",
          "Sister",
          "Canada",
          "Nepal"
         ],
         "marker": {
          "coloraxis": "coloraxis",
          "colors": [
           22272.727272727272,
           18717.105263157893,
           25000,
           25000,
           30000,
           35000,
           15000,
           25270.27027027027,
           21374.407582938387
          ]
         },
         "name": "",
         "parents": [
          "Canada",
          "Nepal",
          "Nepal",
          "Canada",
          "Nepal",
          "Canada",
          "Nepal",
          "",
          ""
         ],
         "type": "treemap",
         "values": [
          220000,
          152000,
          100000,
          80000,
          75000,
          70000,
          95000,
          370000,
          422000
         ]
        }
       ],
       "layout": {
        "autosize": true,
        "coloraxis": {
         "colorbar": {
          "title": {
           "text": "Rent_Expenses"
          }
         },
         "colorscale": [
          [
           0,
           "rgb(254, 246, 181)"
          ],
          [
           0.16666666666666666,
           "rgb(255, 221, 154)"
          ],
          [
           0.3333333333333333,
           "rgb(255, 194, 133)"
          ],
          [
           0.5,
           "rgb(255, 166, 121)"
          ],
          [
           0.6666666666666666,
           "rgb(250, 138, 118)"
          ],
          [
           0.8333333333333334,
           "rgb(241, 109, 122)"
          ],
          [
           1,
           "rgb(225, 83, 131)"
          ]
         ]
        },
        "legend": {
         "tracegroupgap": 0
        },
        "template": {
         "data": {
          "bar": [
           {
            "error_x": {
             "color": "#2a3f5f"
            },
            "error_y": {
             "color": "#2a3f5f"
            },
            "marker": {
             "line": {
              "color": "#E5ECF6",
              "width": 0.5
             },
             "pattern": {
              "fillmode": "overlay",
              "size": 10,
              "solidity": 0.2
             }
            },
            "type": "bar"
           }
          ],
          "barpolar": [
           {
            "marker": {
             "line": {
              "color": "#E5ECF6",
              "width": 0.5
             },
             "pattern": {
              "fillmode": "overlay",
              "size": 10,
              "solidity": 0.2
             }
            },
            "type": "barpolar"
           }
          ],
          "carpet": [
           {
            "aaxis": {
             "endlinecolor": "#2a3f5f",
             "gridcolor": "white",
             "linecolor": "white",
             "minorgridcolor": "white",
             "startlinecolor": "#2a3f5f"
            },
            "baxis": {
             "endlinecolor": "#2a3f5f",
             "gridcolor": "white",
             "linecolor": "white",
             "minorgridcolor": "white",
             "startlinecolor": "#2a3f5f"
            },
            "type": "carpet"
           }
          ],
          "choropleth": [
           {
            "colorbar": {
             "outlinewidth": 0,
             "ticks": ""
            },
            "type": "choropleth"
           }
          ],
          "contour": [
           {
            "colorbar": {
             "outlinewidth": 0,
             "ticks": ""
            },
            "colorscale": [
             [
              0,
              "#0d0887"
             ],
             [
              0.1111111111111111,
              "#46039f"
             ],
             [
              0.2222222222222222,
              "#7201a8"
             ],
             [
              0.3333333333333333,
              "#9c179e"
             ],
             [
              0.4444444444444444,
              "#bd3786"
             ],
             [
              0.5555555555555556,
              "#d8576b"
             ],
             [
              0.6666666666666666,
              "#ed7953"
             ],
             [
              0.7777777777777778,
              "#fb9f3a"
             ],
             [
              0.8888888888888888,
              "#fdca26"
             ],
             [
              1,
              "#f0f921"
             ]
            ],
            "type": "contour"
           }
          ],
          "contourcarpet": [
           {
            "colorbar": {
             "outlinewidth": 0,
             "ticks": ""
            },
            "type": "contourcarpet"
           }
          ],
          "heatmap": [
           {
            "colorbar": {
             "outlinewidth": 0,
             "ticks": ""
            },
            "colorscale": [
             [
              0,
              "#0d0887"
             ],
             [
              0.1111111111111111,
              "#46039f"
             ],
             [
              0.2222222222222222,
              "#7201a8"
             ],
             [
              0.3333333333333333,
              "#9c179e"
             ],
             [
              0.4444444444444444,
              "#bd3786"
             ],
             [
              0.5555555555555556,
              "#d8576b"
             ],
             [
              0.6666666666666666,
              "#ed7953"
             ],
             [
              0.7777777777777778,
              "#fb9f3a"
             ],
             [
              0.8888888888888888,
              "#fdca26"
             ],
             [
              1,
              "#f0f921"
             ]
            ],
            "type": "heatmap"
           }
          ],
          "heatmapgl": [
           {
            "colorbar": {
             "outlinewidth": 0,
             "ticks": ""
            },
            "colorscale": [
             [
              0,
              "#0d0887"
             ],
             [
              0.1111111111111111,
              "#46039f"
             ],
             [
              0.2222222222222222,
              "#7201a8"
             ],
             [
              0.3333333333333333,
              "#9c179e"
             ],
             [
              0.4444444444444444,
              "#bd3786"
             ],
             [
              0.5555555555555556,
              "#d8576b"
             ],
             [
              0.6666666666666666,
              "#ed7953"
             ],
             [
              0.7777777777777778,
              "#fb9f3a"
             ],
             [
              0.8888888888888888,
              "#fdca26"
             ],
             [
              1,
              "#f0f921"
             ]
            ],
            "type": "heatmapgl"
           }
          ],
          "histogram": [
           {
            "marker": {
             "pattern": {
              "fillmode": "overlay",
              "size": 10,
              "solidity": 0.2
             }
            },
            "type": "histogram"
           }
          ],
          "histogram2d": [
           {
            "colorbar": {
             "outlinewidth": 0,
             "ticks": ""
            },
            "colorscale": [
             [
              0,
              "#0d0887"
             ],
             [
              0.1111111111111111,
              "#46039f"
             ],
             [
              0.2222222222222222,
              "#7201a8"
             ],
             [
              0.3333333333333333,
              "#9c179e"
             ],
             [
              0.4444444444444444,
              "#bd3786"
             ],
             [
              0.5555555555555556,
              "#d8576b"
             ],
             [
              0.6666666666666666,
              "#ed7953"
             ],
             [
              0.7777777777777778,
              "#fb9f3a"
             ],
             [
              0.8888888888888888,
              "#fdca26"
             ],
             [
              1,
              "#f0f921"
             ]
            ],
            "type": "histogram2d"
           }
          ],
          "histogram2dcontour": [
           {
            "colorbar": {
             "outlinewidth": 0,
             "ticks": ""
            },
            "colorscale": [
             [
              0,
              "#0d0887"
             ],
             [
              0.1111111111111111,
              "#46039f"
             ],
             [
              0.2222222222222222,
              "#7201a8"
             ],
             [
              0.3333333333333333,
              "#9c179e"
             ],
             [
              0.4444444444444444,
              "#bd3786"
             ],
             [
              0.5555555555555556,
              "#d8576b"
             ],
             [
              0.6666666666666666,
              "#ed7953"
             ],
             [
              0.7777777777777778,
              "#fb9f3a"
             ],
             [
              0.8888888888888888,
              "#fdca26"
             ],
             [
              1,
              "#f0f921"
             ]
            ],
            "type": "histogram2dcontour"
           }
          ],
          "mesh3d": [
           {
            "colorbar": {
             "outlinewidth": 0,
             "ticks": ""
            },
            "type": "mesh3d"
           }
          ],
          "parcoords": [
           {
            "line": {
             "colorbar": {
              "outlinewidth": 0,
              "ticks": ""
             }
            },
            "type": "parcoords"
           }
          ],
          "pie": [
           {
            "automargin": true,
            "type": "pie"
           }
          ],
          "scatter": [
           {
            "fillpattern": {
             "fillmode": "overlay",
             "size": 10,
             "solidity": 0.2
            },
            "type": "scatter"
           }
          ],
          "scatter3d": [
           {
            "line": {
             "colorbar": {
              "outlinewidth": 0,
              "ticks": ""
             }
            },
            "marker": {
             "colorbar": {
              "outlinewidth": 0,
              "ticks": ""
             }
            },
            "type": "scatter3d"
           }
          ],
          "scattercarpet": [
           {
            "marker": {
             "colorbar": {
              "outlinewidth": 0,
              "ticks": ""
             }
            },
            "type": "scattercarpet"
           }
          ],
          "scattergeo": [
           {
            "marker": {
             "colorbar": {
              "outlinewidth": 0,
              "ticks": ""
             }
            },
            "type": "scattergeo"
           }
          ],
          "scattergl": [
           {
            "marker": {
             "colorbar": {
              "outlinewidth": 0,
              "ticks": ""
             }
            },
            "type": "scattergl"
           }
          ],
          "scattermapbox": [
           {
            "marker": {
             "colorbar": {
              "outlinewidth": 0,
              "ticks": ""
             }
            },
            "type": "scattermapbox"
           }
          ],
          "scatterpolar": [
           {
            "marker": {
             "colorbar": {
              "outlinewidth": 0,
              "ticks": ""
             }
            },
            "type": "scatterpolar"
           }
          ],
          "scatterpolargl": [
           {
            "marker": {
             "colorbar": {
              "outlinewidth": 0,
              "ticks": ""
             }
            },
            "type": "scatterpolargl"
           }
          ],
          "scatterternary": [
           {
            "marker": {
             "colorbar": {
              "outlinewidth": 0,
              "ticks": ""
             }
            },
            "type": "scatterternary"
           }
          ],
          "surface": [
           {
            "colorbar": {
             "outlinewidth": 0,
             "ticks": ""
            },
            "colorscale": [
             [
              0,
              "#0d0887"
             ],
             [
              0.1111111111111111,
              "#46039f"
             ],
             [
              0.2222222222222222,
              "#7201a8"
             ],
             [
              0.3333333333333333,
              "#9c179e"
             ],
             [
              0.4444444444444444,
              "#bd3786"
             ],
             [
              0.5555555555555556,
              "#d8576b"
             ],
             [
              0.6666666666666666,
              "#ed7953"
             ],
             [
              0.7777777777777778,
              "#fb9f3a"
             ],
             [
              0.8888888888888888,
              "#fdca26"
             ],
             [
              1,
              "#f0f921"
             ]
            ],
            "type": "surface"
           }
          ],
          "table": [
           {
            "cells": {
             "fill": {
              "color": "#EBF0F8"
             },
             "line": {
              "color": "white"
             }
            },
            "header": {
             "fill": {
              "color": "#C8D4E3"
             },
             "line": {
              "color": "white"
             }
            },
            "type": "table"
           }
          ]
         },
         "layout": {
          "annotationdefaults": {
           "arrowcolor": "#2a3f5f",
           "arrowhead": 0,
           "arrowwidth": 1
          },
          "autotypenumbers": "strict",
          "coloraxis": {
           "colorbar": {
            "outlinewidth": 0,
            "ticks": ""
           }
          },
          "colorscale": {
           "diverging": [
            [
             0,
             "#8e0152"
            ],
            [
             0.1,
             "#c51b7d"
            ],
            [
             0.2,
             "#de77ae"
            ],
            [
             0.3,
             "#f1b6da"
            ],
            [
             0.4,
             "#fde0ef"
            ],
            [
             0.5,
             "#f7f7f7"
            ],
            [
             0.6,
             "#e6f5d0"
            ],
            [
             0.7,
             "#b8e186"
            ],
            [
             0.8,
             "#7fbc41"
            ],
            [
             0.9,
             "#4d9221"
            ],
            [
             1,
             "#276419"
            ]
           ],
           "sequential": [
            [
             0,
             "#0d0887"
            ],
            [
             0.1111111111111111,
             "#46039f"
            ],
            [
             0.2222222222222222,
             "#7201a8"
            ],
            [
             0.3333333333333333,
             "#9c179e"
            ],
            [
             0.4444444444444444,
             "#bd3786"
            ],
            [
             0.5555555555555556,
             "#d8576b"
            ],
            [
             0.6666666666666666,
             "#ed7953"
            ],
            [
             0.7777777777777778,
             "#fb9f3a"
            ],
            [
             0.8888888888888888,
             "#fdca26"
            ],
            [
             1,
             "#f0f921"
            ]
           ],
           "sequentialminus": [
            [
             0,
             "#0d0887"
            ],
            [
             0.1111111111111111,
             "#46039f"
            ],
            [
             0.2222222222222222,
             "#7201a8"
            ],
            [
             0.3333333333333333,
             "#9c179e"
            ],
            [
             0.4444444444444444,
             "#bd3786"
            ],
            [
             0.5555555555555556,
             "#d8576b"
            ],
            [
             0.6666666666666666,
             "#ed7953"
            ],
            [
             0.7777777777777778,
             "#fb9f3a"
            ],
            [
             0.8888888888888888,
             "#fdca26"
            ],
            [
             1,
             "#f0f921"
            ]
           ]
          },
          "colorway": [
           "#636efa",
           "#EF553B",
           "#00cc96",
           "#ab63fa",
           "#FFA15A",
           "#19d3f3",
           "#FF6692",
           "#B6E880",
           "#FF97FF",
           "#FECB52"
          ],
          "font": {
           "color": "#2a3f5f"
          },
          "geo": {
           "bgcolor": "white",
           "lakecolor": "white",
           "landcolor": "#E5ECF6",
           "showlakes": true,
           "showland": true,
           "subunitcolor": "white"
          },
          "hoverlabel": {
           "align": "left"
          },
          "hovermode": "closest",
          "mapbox": {
           "style": "light"
          },
          "paper_bgcolor": "white",
          "plot_bgcolor": "#E5ECF6",
          "polar": {
           "angularaxis": {
            "gridcolor": "white",
            "linecolor": "white",
            "ticks": ""
           },
           "bgcolor": "#E5ECF6",
           "radialaxis": {
            "gridcolor": "white",
            "linecolor": "white",
            "ticks": ""
           }
          },
          "scene": {
           "xaxis": {
            "backgroundcolor": "#E5ECF6",
            "gridcolor": "white",
            "gridwidth": 2,
            "linecolor": "white",
            "showbackground": true,
            "ticks": "",
            "zerolinecolor": "white"
           },
           "yaxis": {
            "backgroundcolor": "#E5ECF6",
            "gridcolor": "white",
            "gridwidth": 2,
            "linecolor": "white",
            "showbackground": true,
            "ticks": "",
            "zerolinecolor": "white"
           },
           "zaxis": {
            "backgroundcolor": "#E5ECF6",
            "gridcolor": "white",
            "gridwidth": 2,
            "linecolor": "white",
            "showbackground": true,
            "ticks": "",
            "zerolinecolor": "white"
           }
          },
          "shapedefaults": {
           "line": {
            "color": "#2a3f5f"
           }
          },
          "ternary": {
           "aaxis": {
            "gridcolor": "white",
            "linecolor": "white",
            "ticks": ""
           },
           "baxis": {
            "gridcolor": "white",
            "linecolor": "white",
            "ticks": ""
           },
           "bgcolor": "#E5ECF6",
           "caxis": {
            "gridcolor": "white",
            "linecolor": "white",
            "ticks": ""
           }
          },
          "title": {
           "x": 0.05
          },
          "xaxis": {
           "automargin": true,
           "gridcolor": "white",
           "linecolor": "white",
           "ticks": "",
           "title": {
            "standoff": 15
           },
           "zerolinecolor": "white",
           "zerolinewidth": 2
          },
          "yaxis": {
           "automargin": true,
           "gridcolor": "white",
           "linecolor": "white",
           "ticks": "",
           "title": {
            "standoff": 15
           },
           "zerolinecolor": "white",
           "zerolinewidth": 2
          }
         }
        },
        "title": {
         "text": "Treemap of Rent and Food Expenses by Country and Family Role"
        }
       }
      },
      "image/png": "[encoded data removed]",
      "text/html": [
       "<div>                            <div id=\"332d75a1-4349-4b33-ade5-3189461f1686\" class=\"plotly-graph-div\" style=\"height:525px; width:100%;\"></div>            <script type=\"text/javascript\">                require([\"plotly\"], function(Plotly) {                    window.PLOTLYENV=window.PLOTLYENV || {};                                    if (document.getElementById(\"332d75a1-4349-4b33-ade5-3189461f1686\")) {                    Plotly.newPlot(                        \"332d75a1-4349-4b33-ade5-3189461f1686\",                        [{\"branchvalues\":\"total\",\"customdata\":[[\"(?)\",22272.727272727272,\"(?)\",22272.727272727272],[\"(?)\",18717.105263157893,\"(?)\",18717.105263157893],[4000,25000.0,\"Auditor\",25000.0],[4000,25000.0,\"Student\",25000.0],[6000,30000.0,\"Teacher\",30000.0],[3000,35000.0,\"Accountant\",35000.0],[7000,15000.0,\"Doctor\",15000.0],[\"(?)\",25270.27027027027,\"(?)\",25270.27027027027],[\"(?)\",21374.407582938387,\"(?)\",21374.407582938387]],\"domain\":{\"x\":[0.0,1.0],\"y\":[0.0,1.0]},\"hovertemplate\":\"labels=%{label}<br>Salary=%{value}<br>parent=%{parent}<br>id=%{id}<br>Food_Expenses=%{customdata[0]}<br>Rent_Expenses=%{color}<br>Job=%{customdata[2]}<extra></extra>\",\"ids\":[\"Canada/Cousin\",\"Nepal/Cousin\",\"Nepal/Father\",\"Canada/Me\",\"Nepal/Mother\",\"Canada/Sister\",\"Nepal/Sister\",\"Canada\",\"Nepal\"],\"labels\":[\"Cousin\",\"Cousin\",\"Father\",\"Me\",\"Mother\",\"Sister\",\"Sister\",\"Canada\",\"Nepal\"],\"marker\":{\"coloraxis\":\"coloraxis\",\"colors\":[22272.727272727272,18717.105263157893,25000.0,25000.0,30000.0,35000.0,15000.0,25270.27027027027,21374.407582938387]},\"name\":\"\",\"parents\":[\"Canada\",\"Nepal\",\"Nepal\",\"Canada\",\"Nepal\",\"Canada\",\"Nepal\",\"\",\"\"],\"values\":[220000,152000,100000,80000,75000,70000,95000,370000,422000],\"type\":\"treemap\"}],                        {\"template\":{\"data\":{\"histogram2dcontour\":[{\"type\":\"histogram2dcontour\",\"colorbar\":{\"outlinewidth\":0,\"ticks\":\"\"},\"colorscale\":[[0.0,\"#0d0887\"],[0.1111111111111111,\"#46039f\"],[0.2222222222222222,\"#7201a8\"],[0.3333333333333333,\"#9c179e\"],[0.4444444444444444,\"#bd3786\"],[0.5555555555555556,\"#d8576b\"],[0.6666666666666666,\"#ed7953\"],[0.7777777777777778,\"#fb9f3a\"],[0.8888888888888888,\"#fdca26\"],[1.0,\"#f0f921\"]]}],\"choropleth\":[{\"type\":\"choropleth\",\"colorbar\":{\"outlinewidth\":0,\"ticks\":\"\"}}],\"histogram2d\":[{\"type\":\"histogram2d\",\"colorbar\":{\"outlinewidth\":0,\"ticks\":\"\"},\"colorscale\":[[0.0,\"#0d0887\"],[0.1111111111111111,\"#46039f\"],[0.2222222222222222,\"#7201a8\"],[0.3333333333333333,\"#9c179e\"],[0.4444444444444444,\"#bd3786\"],[0.5555555555555556,\"#d8576b\"],[0.6666666666666666,\"#ed7953\"],[0.7777777777777778,\"#fb9f3a\"],[0.8888888888888888,\"#fdca26\"],[1.0,\"#f0f921\"]]}],\"heatmap\":[{\"type\":\"heatmap\",\"colorbar\":{\"outlinewidth\":0,\"ticks\":\"\"},\"colorscale\":[[0.0,\"#0d0887\"],[0.1111111111111111,\"#46039f\"],[0.2222222222222222,\"#7201a8\"],[0.3333333333333333,\"#9c179e\"],[0.4444444444444444,\"#bd3786\"],[0.5555555555555556,\"#d8576b\"],[0.6666666666666666,\"#ed7953\"],[0.7777777777777778,\"#fb9f3a\"],[0.8888888888888888,\"#fdca26\"],[1.0,\"#f0f921\"]]}],\"heatmapgl\":[{\"type\":\"heatmapgl\",\"colorbar\":{\"outlinewidth\":0,\"ticks\":\"\"},\"colorscale\":[[0.0,\"#0d0887\"],[0.1111111111111111,\"#46039f\"],[0.2222222222222222,\"#7201a8\"],[0.3333333333333333,\"#9c179e\"],[0.4444444444444444,\"#bd3786\"],[0.5555555555555556,\"#d8576b\"],[0.6666666666666666,\"#ed7953\"],[0.7777777777777778,\"#fb9f3a\"],[0.8888888888888888,\"#fdca26\"],[1.0,\"#f0f921\"]]}],\"contourcarpet\":[{\"type\":\"contourcarpet\",\"colorbar\":{\"outlinewidth\":0,\"ticks\":\"\"}}],\"contour\":[{\"type\":\"contour\",\"colorbar\":{\"outlinewidth\":0,\"ticks\":\"\"},\"colorscale\":[[0.0,\"#0d0887\"],[0.1111111111111111,\"#46039f\"],[0.2222222222222222,\"#7201a8\"],[0.3333333333333333,\"#9c179e\"],[0.4444444444444444,\"#bd3786\"],[0.5555555555555556,\"#d8576b\"],[0.6666666666666666,\"#ed7953\"],[0.7777777777777778,\"#fb9f3a\"],[0.8888888888888888,\"#fdca26\"],[1.0,\"#f0f921\"]]}],\"surface\":[{\"type\":\"surface\",\"colorbar\":{\"outlinewidth\":0,\"ticks\":\"\"},\"colorscale\":[[0.0,\"#0d0887\"],[0.1111111111111111,\"#46039f\"],[0.2222222222222222,\"#7201a8\"],[0.3333333333333333,\"#9c179e\"],[0.4444444444444444,\"#bd3786\"],[0.5555555555555556,\"#d8576b\"],[0.6666666666666666,\"#ed7953\"],[0.7777777777777778,\"#fb9f3a\"],[0.8888888888888888,\"#fdca26\"],[1.0,\"#f0f921\"]]}],\"mesh3d\":[{\"type\":\"mesh3d\",\"colorbar\":{\"outlinewidth\":0,\"ticks\":\"\"}}],\"scatter\":[{\"fillpattern\":{\"fillmode\":\"overlay\",\"size\":10,\"solidity\":0.2},\"type\":\"scatter\"}],\"parcoords\":[{\"type\":\"parcoords\",\"line\":{\"colorbar\":{\"outlinewidth\":0,\"ticks\":\"\"}}}],\"scatterpolargl\":[{\"type\":\"scatterpolargl\",\"marker\":{\"colorbar\":{\"outlinewidth\":0,\"ticks\":\"\"}}}],\"bar\":[{\"error_x\":{\"color\":\"#2a3f5f\"},\"error_y\":{\"color\":\"#2a3f5f\"},\"marker\":{\"line\":{\"color\":\"#E5ECF6\",\"width\":0.5},\"pattern\":{\"fillmode\":\"overlay\",\"size\":10,\"solidity\":0.2}},\"type\":\"bar\"}],\"scattergeo\":[{\"type\":\"scattergeo\",\"marker\":{\"colorbar\":{\"outlinewidth\":0,\"ticks\":\"\"}}}],\"scatterpolar\":[{\"type\":\"scatterpolar\",\"marker\":{\"colorbar\":{\"outlinewidth\":0,\"ticks\":\"\"}}}],\"histogram\":[{\"marker\":{\"pattern\":{\"fillmode\":\"overlay\",\"size\":10,\"solidity\":0.2}},\"type\":\"histogram\"}],\"scattergl\":[{\"type\":\"scattergl\",\"marker\":{\"colorbar\":{\"outlinewidth\":0,\"ticks\":\"\"}}}],\"scatter3d\":[{\"type\":\"scatter3d\",\"line\":{\"colorbar\":{\"outlinewidth\":0,\"ticks\":\"\"}},\"marker\":{\"colorbar\":{\"outlinewidth\":0,\"ticks\":\"\"}}}],\"scattermapbox\":[{\"type\":\"scattermapbox\",\"marker\":{\"colorbar\":{\"outlinewidth\":0,\"ticks\":\"\"}}}],\"scatterternary\":[{\"type\":\"scatterternary\",\"marker\":{\"colorbar\":{\"outlinewidth\":0,\"ticks\":\"\"}}}],\"scattercarpet\":[{\"type\":\"scattercarpet\",\"marker\":{\"colorbar\":{\"outlinewidth\":0,\"ticks\":\"\"}}}],\"carpet\":[{\"aaxis\":{\"endlinecolor\":\"#2a3f5f\",\"gridcolor\":\"white\",\"linecolor\":\"white\",\"minorgridcolor\":\"white\",\"startlinecolor\":\"#2a3f5f\"},\"baxis\":{\"endlinecolor\":\"#2a3f5f\",\"gridcolor\":\"white\",\"linecolor\":\"white\",\"minorgridcolor\":\"white\",\"startlinecolor\":\"#2a3f5f\"},\"type\":\"carpet\"}],\"table\":[{\"cells\":{\"fill\":{\"color\":\"#EBF0F8\"},\"line\":{\"color\":\"white\"}},\"header\":{\"fill\":{\"color\":\"#C8D4E3\"},\"line\":{\"color\":\"white\"}},\"type\":\"table\"}],\"barpolar\":[{\"marker\":{\"line\":{\"color\":\"#E5ECF6\",\"width\":0.5},\"pattern\":{\"fillmode\":\"overlay\",\"size\":10,\"solidity\":0.2}},\"type\":\"barpolar\"}],\"pie\":[{\"automargin\":true,\"type\":\"pie\"}]},\"layout\":{\"autotypenumbers\":\"strict\",\"colorway\":[\"#636efa\",\"#EF553B\",\"#00cc96\",\"#ab63fa\",\"#FFA15A\",\"#19d3f3\",\"#FF6692\",\"#B6E880\",\"#FF97FF\",\"#FECB52\"],\"font\":{\"color\":\"#2a3f5f\"},\"hovermode\":\"closest\",\"hoverlabel\":{\"align\":\"left\"},\"paper_bgcolor\":\"white\",\"plot_bgcolor\":\"#E5ECF6\",\"polar\":{\"bgcolor\":\"#E5ECF6\",\"angularaxis\":{\"gridcolor\":\"white\",\"linecolor\":\"white\",\"ticks\":\"\"},\"radialaxis\":{\"gridcolor\":\"white\",\"linecolor\":\"white\",\"ticks\":\"\"}},\"ternary\":{\"bgcolor\":\"#E5ECF6\",\"aaxis\":{\"gridcolor\":\"white\",\"linecolor\":\"white\",\"ticks\":\"\"},\"baxis\":{\"gridcolor\":\"white\",\"linecolor\":\"white\",\"ticks\":\"\"},\"caxis\":{\"gridcolor\":\"white\",\"linecolor\":\"white\",\"ticks\":\"\"}},\"coloraxis\":{\"colorbar\":{\"outlinewidth\":0,\"ticks\":\"\"}},\"colorscale\":{\"sequential\":[[0.0,\"#0d0887\"],[0.1111111111111111,\"#46039f\"],[0.2222222222222222,\"#7201a8\"],[0.3333333333333333,\"#9c179e\"],[0.4444444444444444,\"#bd3786\"],[0.5555555555555556,\"#d8576b\"],[0.6666666666666666,\"#ed7953\"],[0.7777777777777778,\"#fb9f3a\"],[0.8888888888888888,\"#fdca26\"],[1.0,\"#f0f921\"]],\"sequentialminus\":[[0.0,\"#0d0887\"],[0.1111111111111111,\"#46039f\"],[0.2222222222222222,\"#7201a8\"],[0.3333333333333333,\"#9c179e\"],[0.4444444444444444,\"#bd3786\"],[0.5555555555555556,\"#d8576b\"],[0.6666666666666666,\"#ed7953\"],[0.7777777777777778,\"#fb9f3a\"],[0.8888888888888888,\"#fdca26\"],[1.0,\"#f0f921\"]],\"diverging\":[[0,\"#8e0152\"],[0.1,\"#c51b7d\"],[0.2,\"#de77ae\"],[0.3,\"#f1b6da\"],[0.4,\"#fde0ef\"],[0.5,\"#f7f7f7\"],[0.6,\"#e6f5d0\"],[0.7,\"#b8e186\"],[0.8,\"#7fbc41\"],[0.9,\"#4d9221\"],[1,\"#276419\"]]},\"xaxis\":{\"gridcolor\":\"white\",\"linecolor\":\"white\",\"ticks\":\"\",\"title\":{\"standoff\":15},\"zerolinecolor\":\"white\",\"automargin\":true,\"zerolinewidth\":2},\"yaxis\":{\"gridcolor\":\"white\",\"linecolor\":\"white\",\"ticks\":\"\",\"title\":{\"standoff\":15},\"zerolinecolor\":\"white\",\"automargin\":true,\"zerolinewidth\":2},\"scene\":{\"xaxis\":{\"backgroundcolor\":\"#E5ECF6\",\"gridcolor\":\"white\",\"linecolor\":\"white\",\"showbackground\":true,\"ticks\":\"\",\"zerolinecolor\":\"white\",\"gridwidth\":2},\"yaxis\":{\"backgroundcolor\":\"#E5ECF6\",\"gridcolor\":\"white\",\"linecolor\":\"white\",\"showbackground\":true,\"ticks\":\"\",\"zerolinecolor\":\"white\",\"gridwidth\":2},\"zaxis\":{\"backgroundcolor\":\"#E5ECF6\",\"gridcolor\":\"white\",\"linecolor\":\"white\",\"showbackground\":true,\"ticks\":\"\",\"zerolinecolor\":\"white\",\"gridwidth\":2}},\"shapedefaults\":{\"line\":{\"color\":\"#2a3f5f\"}},\"annotationdefaults\":{\"arrowcolor\":\"#2a3f5f\",\"arrowhead\":0,\"arrowwidth\":1},\"geo\":{\"bgcolor\":\"white\",\"landcolor\":\"#E5ECF6\",\"subunitcolor\":\"white\",\"showland\":true,\"showlakes\":true,\"lakecolor\":\"white\"},\"title\":{\"x\":0.05},\"mapbox\":{\"style\":\"light\"}}},\"coloraxis\":{\"colorbar\":{\"title\":{\"text\":\"Rent_Expenses\"}},\"colorscale\":[[0.0,\"rgb(254, 246, 181)\"],[0.16666666666666666,\"rgb(255, 221, 154)\"],[0.3333333333333333,\"rgb(255, 194, 133)\"],[0.5,\"rgb(255, 166, 121)\"],[0.6666666666666666,\"rgb(250, 138, 118)\"],[0.8333333333333334,\"rgb(241, 109, 122)\"],[1.0,\"rgb(225, 83, 131)\"]]},\"legend\":{\"tracegroupgap\":0},\"title\":{\"text\":\"Treemap of Rent and Food Expenses by Country and Family Role\"}},                        {\"responsive\": true}                    ).then(function(){\n",
       "                            \n",
       "var gd = document.getElementById('332d75a1-4349-4b33-ade5-3189461f1686');\n",
       "var x = new MutationObserver(function (mutations, observer) {{\n",
       "        var display = window.getComputedStyle(gd).display;\n",
       "        if (!display || display === 'none') {{\n",
       "            console.log([gd, 'removed!']);\n",
       "            Plotly.purge(gd);\n",
       "            observer.disconnect();\n",
       "        }}\n",
       "}});\n",
       "\n",
       "// Listen for the removal of the full notebook cells\n",
       "var notebookContainer = gd.closest('#notebook-container');\n",
       "if (notebookContainer) {{\n",
       "    x.observe(notebookContainer, {childList: true});\n",
       "}}\n",
       "\n",
       "// Listen for the clearing of the current output cell\n",
       "var outputEl = gd.closest('.output');\n",
       "if (outputEl) {{\n",
       "    x.observe(outputEl, {childList: true});\n",
       "}}\n",
       "\n",
       "                        })                };                });            </script>        </div>"
      ]
     },
     "metadata": {},
     "output_type": "display_data"
    }
   ],
   "source": [
    "import plotly.express as px\n",
    "\n",
    "# Create a treemap\n",
    "fig = px.treemap(\n",
    "    data,\n",
    "    path=[\"Current_Country\", \"WhoAreThey\"],  # Hierarchy: Country > Family Role\n",
    "    values=\"Salary\",  # Size of rectangles based on salary\n",
    "    color=\"Rent_Expenses\",  # Color based on rent expenses\n",
    "    hover_data=[\"Food_Expenses\", \"Rent_Expenses\", \"Job\"],  # Additional data on hover\n",
    "    color_continuous_scale=\"pinkyl\",  # Pink-themed color scale\n",
    "    title=\"Treemap of Rent and Food Expenses by Country and Family Role\"\n",
    ")\n",
    "\n",
    "fig.show()\n"
   ]
  },
  {
   "cell_type": "markdown",
   "id": "481a06ca-75bb-4083-8be7-ae3a7371a139",
   "metadata": {},
   "source": [
    "### The treemap visualizes the hierarchy of Current Country and Family Role (WhoAreThey), with rectangle sizes representing salaries and colors indicating rent expenses. It provides a clear view of how resources are distributed within families across countries, showing which roles and regions have higher expenses or salaries at a glance."
   ]
  },
  {
   "cell_type": "code",
   "execution_count": null,
   "id": "1c0ea0ba-578a-4318-906e-7dc5c88a0005",
   "metadata": {},
   "outputs": [],
   "source": []
  }
 ],
 "metadata": {
  "kernelspec": {
   "display_name": "Python 3 (ipykernel)",
   "language": "python",
   "name": "python3"
  },
  "language_info": {
   "codemirror_mode": {
    "name": "ipython",
    "version": 3
   },
   "file_extension": ".py",
   "mimetype": "text/x-python",
   "name": "python",
   "nbconvert_exporter": "python",
   "pygments_lexer": "ipython3",
   "version": "3.11.5"
  }
 },
 "nbformat": 4,
 "nbformat_minor": 5
}
